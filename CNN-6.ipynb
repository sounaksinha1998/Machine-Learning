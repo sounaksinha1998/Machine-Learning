{
 "cells": [
  {
   "cell_type": "code",
   "execution_count": 39,
   "metadata": {},
   "outputs": [],
   "source": [
    "import keras \n",
    "from keras.models import Sequential\n",
    "from keras.layers import Conv2D, MaxPooling2D, Flatten, Dropout, Dense, Activation"
   ]
  },
  {
   "cell_type": "code",
   "execution_count": 40,
   "metadata": {},
   "outputs": [],
   "source": [
    "import numpy as np\n",
    "import cv2\n",
    "import random as rn"
   ]
  },
  {
   "cell_type": "code",
   "execution_count": 41,
   "metadata": {},
   "outputs": [],
   "source": [
    "def image_augmentation(img,h,v,r,z):\n",
    "    col,row = img.shape\n",
    "    #vertical and horizontal shift:\n",
    "    matrix = np.float32( [[1,0,h],[0,1,v]] )\n",
    "    img = cv2.warpAffine(img, matrix, (row,col))\n",
    "    #rotation and zoom:\n",
    "    matrix = cv2.getRotationMatrix2D((row/2,col/2), r, z)\n",
    "    img = cv2.warpAffine(img, matrix, (row,col))\n",
    "    return img"
   ]
  },
  {
   "cell_type": "code",
   "execution_count": 42,
   "metadata": {},
   "outputs": [],
   "source": [
    "def image_resize(path):\n",
    "    img = cv2.imread(path, cv2.IMREAD_GRAYSCALE)\n",
    "    img = cv2.resize(img,(32,32))\n",
    "    return img"
   ]
  },
  {
   "cell_type": "code",
   "execution_count": 43,
   "metadata": {},
   "outputs": [],
   "source": [
    "def create_train_dataset(size):\n",
    "    dataset=[]\n",
    "    for i in range(1,size+1):\n",
    "        dog=image_resize(\"D:\\\\Image_Dataset\\\\train\\\\dog\\\\dog.\"+str(i)+\".jpg\")\n",
    "        cat=image_resize(\"D:\\\\Image_Dataset\\\\train\\\\cat\\\\cat.\"+str(i)+\".jpg\")\n",
    "        dataset.append([dog, 1, 0])\n",
    "        dataset.append([cat, 0, 1])\n",
    "        '''for i in range(1):\n",
    "            aug_dog=image_augmentation(dog,rn.randint(0,0),rn.randint(0,0),rn.choice([0,90,180,270]),rn.uniform(1.1,2))\n",
    "            aug_cat=image_augmentation(cat,rn.randint(0,0),rn.randint(0,0),rn.choice([0,90,180,270]),rn.uniform(1.1,2))\n",
    "            dataset.append([aug_dog,1,0])\n",
    "            dataset.append([aug_cat,0,1])'''\n",
    "    dataset=np.asarray(dataset)\n",
    "    np.random.shuffle( dataset )\n",
    "    op=dataset[:,1:3]\n",
    "\n",
    "    x=dataset[:,0:1].ravel()\n",
    "    ip=[]\n",
    "    for i in range( np.size(x) ):\n",
    "        ip.append(x[i])\n",
    "    ip=np.asarray(ip).reshape(-1,32,32,1)\n",
    "    ip=ip/255\n",
    "    return ip,op"
   ]
  },
  {
   "cell_type": "code",
   "execution_count": 44,
   "metadata": {},
   "outputs": [],
   "source": [
    "def CNN():\n",
    "    model = Sequential()\n",
    "    \n",
    "    model.add( Conv2D(32,(3,3),input_shape=X.shape[1:]) )\n",
    "    model.add( Activation('relu') )\n",
    "    model.add( MaxPooling2D(pool_size=(2,2)) )\n",
    "    \n",
    "    model.add( Conv2D(32,(3,3)) )\n",
    "    model.add( Activation('relu') )\n",
    "    model.add( MaxPooling2D(pool_size=(2,2)) )\n",
    "    \n",
    "    model.add( Conv2D(64,(3,3)) )\n",
    "    model.add( Activation('relu') )\n",
    "    model.add( MaxPooling2D(pool_size=(2,2)) )\n",
    "    \n",
    "    model.add( Flatten() )\n",
    "    model.add( Dense(64) )\n",
    "    model.add( Dropout(0.5) )\n",
    "    model.add( Activation('relu') )\n",
    "    \n",
    "    model.add( Dense(2) )\n",
    "    model.add( Activation('sigmoid') )\n",
    "    \n",
    "    model.compile(loss='categorical_crossentropy', optimizer='adam', metrics=['accuracy'])\n",
    "    model.fit(X,y, epochs=20, batch_size=20, validation_split=0.1)\n",
    "    \n",
    "    return model"
   ]
  },
  {
   "cell_type": "code",
   "execution_count": 45,
   "metadata": {},
   "outputs": [
    {
     "name": "stdout",
     "output_type": "stream",
     "text": [
      "Train on 22410 samples, validate on 2490 samples\n",
      "Epoch 1/20\n",
      "22410/22410 [==============================] - 32s 1ms/step - loss: 0.6667 - acc: 0.5933 - val_loss: 0.6422 - val_acc: 0.6353\n",
      "Epoch 2/20\n",
      "22410/22410 [==============================] - 32s 1ms/step - loss: 0.5851 - acc: 0.6949 - val_loss: 0.5230 - val_acc: 0.7357\n",
      "Epoch 3/20\n",
      "22410/22410 [==============================] - 32s 1ms/step - loss: 0.5248 - acc: 0.7428 - val_loss: 0.5152 - val_acc: 0.7514\n",
      "Epoch 4/20\n",
      "22410/22410 [==============================] - 32s 1ms/step - loss: 0.4897 - acc: 0.7664 - val_loss: 0.4917 - val_acc: 0.7602\n",
      "Epoch 5/20\n",
      "22410/22410 [==============================] - 33s 1ms/step - loss: 0.4638 - acc: 0.7808 - val_loss: 0.4753 - val_acc: 0.7739\n",
      "Epoch 6/20\n",
      "22410/22410 [==============================] - 32s 1ms/step - loss: 0.4329 - acc: 0.8018 - val_loss: 0.4628 - val_acc: 0.7827\n",
      "Epoch 7/20\n",
      "22410/22410 [==============================] - 34s 2ms/step - loss: 0.4086 - acc: 0.8121 - val_loss: 0.4616 - val_acc: 0.7904\n",
      "Epoch 8/20\n",
      "22410/22410 [==============================] - 34s 2ms/step - loss: 0.3778 - acc: 0.8317 - val_loss: 0.4947 - val_acc: 0.7731\n",
      "Epoch 9/20\n",
      "22410/22410 [==============================] - 35s 2ms/step - loss: 0.3596 - acc: 0.8404 - val_loss: 0.4995 - val_acc: 0.7771\n",
      "Epoch 10/20\n",
      "22410/22410 [==============================] - 34s 2ms/step - loss: 0.3390 - acc: 0.8545 - val_loss: 0.4961 - val_acc: 0.7707\n",
      "Epoch 11/20\n",
      "22410/22410 [==============================] - 38s 2ms/step - loss: 0.3201 - acc: 0.8623 - val_loss: 0.4755 - val_acc: 0.7920\n",
      "Epoch 12/20\n",
      "22410/22410 [==============================] - 36s 2ms/step - loss: 0.3015 - acc: 0.8714 - val_loss: 0.5241 - val_acc: 0.7807\n",
      "Epoch 13/20\n",
      "22410/22410 [==============================] - 34s 2ms/step - loss: 0.2817 - acc: 0.8823 - val_loss: 0.5574 - val_acc: 0.7779\n",
      "Epoch 14/20\n",
      "22410/22410 [==============================] - 35s 2ms/step - loss: 0.2685 - acc: 0.8885 - val_loss: 0.5813 - val_acc: 0.7695\n",
      "Epoch 15/20\n",
      "22410/22410 [==============================] - 34s 2ms/step - loss: 0.2504 - acc: 0.8958 - val_loss: 0.5630 - val_acc: 0.7743\n",
      "Epoch 16/20\n",
      "22410/22410 [==============================] - 40s 2ms/step - loss: 0.2269 - acc: 0.9089 - val_loss: 0.5748 - val_acc: 0.7807\n",
      "Epoch 17/20\n",
      "22410/22410 [==============================] - 34s 2ms/step - loss: 0.2181 - acc: 0.9118 - val_loss: 0.6491 - val_acc: 0.7675\n",
      "Epoch 18/20\n",
      "22410/22410 [==============================] - 35s 2ms/step - loss: 0.2081 - acc: 0.9144 - val_loss: 0.6703 - val_acc: 0.7695\n",
      "Epoch 19/20\n",
      "22410/22410 [==============================] - 35s 2ms/step - loss: 0.1904 - acc: 0.9232 - val_loss: 0.7096 - val_acc: 0.7735\n",
      "Epoch 20/20\n",
      "22410/22410 [==============================] - 35s 2ms/step - loss: 0.1784 - acc: 0.9298 - val_loss: 0.6828 - val_acc: 0.7687\n"
     ]
    }
   ],
   "source": [
    "X,y = create_train_dataset(12450)\n",
    "model = CNN()"
   ]
  },
  {
   "cell_type": "code",
   "execution_count": 46,
   "metadata": {},
   "outputs": [],
   "source": [
    "model.save(\"MyCNN-3.h5\")"
   ]
  },
  {
   "cell_type": "code",
   "execution_count": null,
   "metadata": {},
   "outputs": [],
   "source": []
  }
 ],
 "metadata": {
  "kernelspec": {
   "display_name": "Python 3",
   "language": "python",
   "name": "python3"
  },
  "language_info": {
   "codemirror_mode": {
    "name": "ipython",
    "version": 3
   },
   "file_extension": ".py",
   "mimetype": "text/x-python",
   "name": "python",
   "nbconvert_exporter": "python",
   "pygments_lexer": "ipython3",
   "version": "3.6.4"
  }
 },
 "nbformat": 4,
 "nbformat_minor": 2
}
